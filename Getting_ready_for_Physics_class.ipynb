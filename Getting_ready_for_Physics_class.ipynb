{
  "nbformat": 4,
  "nbformat_minor": 0,
  "metadata": {
    "colab": {
      "provenance": []
    },
    "kernelspec": {
      "name": "python3",
      "display_name": "Python 3"
    },
    "language_info": {
      "name": "python"
    }
  },
  "cells": [
    {
      "cell_type": "code",
      "execution_count": null,
      "metadata": {
        "id": "bTLUtrAbSdsZ"
      },
      "outputs": [],
      "source": [
        "def get_force(mass, acceleration):\n",
        "  force = mass*acceleration\n",
        "  return force\n",
        "\n",
        "def get_energy(mass, c=3*10**8):\n",
        "  energy = mass*c**2\n",
        "  return energy\n",
        "\n",
        "def f_to_c(f_temp):\n",
        "  c_temp = (f_temp - 32) * (5/9)\n",
        "  return c_temp\n",
        "\n",
        "def c_to_f(c_temp):\n",
        "  f_temp = c_temp * (9/5) + 32\n",
        "  return f_temp\n",
        "\n",
        "def get_work(mass, acceleration, distance):\n",
        "  force = get_force(mass, acceleration)\n",
        "  return force*distance\n",
        "\n",
        "f100_in_celsius = f_to_c(100)\n",
        "c0_in_fahrenheit = c_to_f(0)\n",
        "\n",
        "print(\"100F is \" + str(f100_in_celsius) + \" in Celsius\")\n",
        "print(\"0C is \" + str(c0_in_fahrenheit) + \" in Fahrenheit\")\n",
        "\n",
        "train_mass = 22680\n",
        "train_acceleration = 10\n",
        "train_distance = 100\n",
        "\n",
        "train_force = get_force(train_mass, train_acceleration)\n",
        "train_work = get_work(train_mass, train_acceleration, train_distance)\n",
        "\n",
        "bomb_mass = 1\n",
        "bomb_energy = get_energy(bomb_mass)\n",
        "\n",
        "print(\"The GE train supplies \" + str(train_force) + \" Newtons of force.\")\n",
        "print(\"The GE train does \" + str(train_force) + \" Joules of work over \"+str(train_distance)+\" meters.\")\n",
        "print(\"A 1kg bomb supplies \" + str(bomb_energy) + \" Joules.\")\n"
      ]
    }
  ]
}