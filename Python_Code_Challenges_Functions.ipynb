{
  "nbformat": 4,
  "nbformat_minor": 0,
  "metadata": {
    "colab": {
      "provenance": []
    },
    "kernelspec": {
      "name": "python3",
      "display_name": "Python 3"
    },
    "language_info": {
      "name": "python"
    }
  },
  "cells": [
    {
      "cell_type": "code",
      "execution_count": null,
      "metadata": {
        "id": "GzZJKOqa8_p5"
      },
      "outputs": [],
      "source": [
        "#Title: Tenth Power\n",
        "\n",
        "# Write your tenth_power function here:\n",
        "def tenth_power(num):\n",
        "  return num**10\n",
        "# Uncomment these function calls to test your tenth_power function:\n",
        "print(tenth_power(1))\n",
        "# 1 to the 10th power is 1\n",
        "print(tenth_power(0))\n",
        "# 0 to the 10th power is 0\n",
        "print(tenth_power(2))\n",
        "# 2 to the 10th power is 1024\n",
        "\n",
        "#End\n",
        "\n",
        "#Title: Square root\n",
        "\n",
        "# Write your square_root function here:\n",
        "def square_root(num):\n",
        "  return num**.5\n",
        "# Uncomment these function calls to test your square_root function:\n",
        "print(square_root(16))\n",
        "# should print 4\n",
        "print(square_root(100))\n",
        "# should print 10\n",
        "\n",
        "#End\n",
        "\n",
        "#Title: Win Percentage\n",
        "\n",
        "# Write your win_percentage function here:\n",
        "def win_percentage(wins,losses):\n",
        "  return (wins/(wins+losses))*100\n",
        "# Uncomment these function calls to test your win_percentage function:\n",
        "print(win_percentage(5, 5))\n",
        "# should print 50\n",
        "print(win_percentage(10, 0))\n",
        "# should print 100\n",
        "\n",
        "#End\n",
        "\n",
        "#Title: Average\n",
        "\n",
        "# Write your average function here:\n",
        "def average(num1,num2):\n",
        "  return (num1+num2)/2\n",
        "# Uncomment these function calls to test your average function:\n",
        "print(average(1, 100))\n",
        "# The average of 1 and 100 is 50.5\n",
        "print(average(1, -1))\n",
        "# The average of 1 and -1 is 0\n",
        "#End\n",
        "\n",
        "#Title: Remainder\n",
        "\n",
        "# Write your remainder function here:\n",
        "def remainder(num1,num2):\n",
        "  return (2*num1)%(num2/2)\n",
        "# Uncomment these function calls to test your remainder function:\n",
        "print(remainder(15, 14))\n",
        "# should print 2\n",
        "print(remainder(9, 6))\n",
        "# should print 0\n",
        "\n",
        "#End"
      ]
    }
  ]
}