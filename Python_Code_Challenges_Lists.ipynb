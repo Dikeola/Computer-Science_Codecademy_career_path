{
  "nbformat": 4,
  "nbformat_minor": 0,
  "metadata": {
    "colab": {
      "provenance": []
    },
    "kernelspec": {
      "name": "python3",
      "display_name": "Python 3"
    },
    "language_info": {
      "name": "python"
    }
  },
  "cells": [
    {
      "cell_type": "code",
      "execution_count": null,
      "metadata": {
        "id": "ho37DD6DkLs7"
      },
      "outputs": [],
      "source": [
        "#Title: Append Size\n",
        "\n",
        "def append_size(my_list):\n",
        "  my_list.append(len(my_list))\n",
        "  return my_list\n",
        "\n",
        "#End\n",
        "\n",
        "#Title: Append Sum\n",
        "\n",
        "def append_sum(my_list):\n",
        "  my_list.append(my_list[-1] + my_list[-2])\n",
        "  my_list.append(my_list[-1] + my_list[-2])\n",
        "  my_list.append(my_list[-1] + my_list[-2])\n",
        "  return my_list\n",
        "#End\n",
        "\n",
        "#Title: Larger List\n",
        "\n",
        "def larger_list(my_list1, my_list2):\n",
        "  if len(my_list1) >= len(my_list2):\n",
        "    return my_list1[-1]\n",
        "  else:\n",
        "    return my_list2[-1]\n",
        "#End\n",
        "\n",
        "#Title: More Than N\n",
        "\n",
        "def more_than_n(my_list, item, n):\n",
        "  if my_list.count(item) > n:\n",
        "    return True\n",
        "  else:\n",
        "    return False\n",
        "#End\n",
        "\n",
        "#Title: Combine Sort\n",
        "\n",
        "def combine_sort(my_list1, my_list2):\n",
        "  unsorted = my_list1 + my_list2\n",
        "  sortedList = sorted(unsorted)\n",
        "  return sortedList"
      ]
    }
  ]
}