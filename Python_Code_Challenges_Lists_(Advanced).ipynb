{
  "nbformat": 4,
  "nbformat_minor": 0,
  "metadata": {
    "colab": {
      "provenance": []
    },
    "kernelspec": {
      "name": "python3",
      "display_name": "Python 3"
    },
    "language_info": {
      "name": "python"
    }
  },
  "cells": [
    {
      "cell_type": "code",
      "execution_count": null,
      "metadata": {
        "id": "G51fyp0A6GNp"
      },
      "outputs": [],
      "source": [
        "#Title: Every Three Numbers\n",
        "\n",
        "#Write your function here\n",
        "def every_three_nums(start):\n",
        "  lst = list(range(start,101,3))\n",
        "  return lst\n",
        "\n",
        "#Uncomment the line below when your function is done\n",
        "print(every_three_nums(91))\n",
        "\n",
        "#End\n",
        "\n",
        "#Title: Remove Middle\n",
        "\n",
        "#Write your function here\n",
        "def remove_middle(my_list,start,end):\n",
        "  lst = my_list\n",
        "  for i in my_list[start:end+1]:\n",
        "    lst.remove(i)\n",
        "  return lst\n",
        "#Uncomment the line below when your function is done\n",
        "print(remove_middle([4, 8, 15, 16, 23, 42], 1, 3))\n",
        "#End\n",
        "\n",
        "#Title: More Frequent Item\n",
        "\n",
        "#Write your function here\n",
        "def more_frequent_item(my_list,item1,item2):\n",
        "  count1 = my_list.count(item1)\n",
        "  count2 = my_list.count(item2)\n",
        "  if count2>count1:\n",
        "    return item2\n",
        "  else:\n",
        "    return item1\n",
        "#Uncomment the line below when your function is done\n",
        "print(more_frequent_item([2, 3, 3, 2, 3, 2, 3, 2, 3], 2, 3))\n",
        "#End\n",
        "\n",
        "#Title: Double Index\n",
        "\n",
        "#Write your function here\n",
        "def double_index(my_list, index):\n",
        "  # Checks to see if index is too big\n",
        "  if index >= len(my_list):\n",
        "    return my_list\n",
        "  else:\n",
        "    # Gets the original list up to ind\n",
        "    my_new_list = my_list[0:index]\n",
        " # Adds double the value at index to the new list\n",
        "  my_new_list.append(my_list[index]*2)\n",
        "  #  Adds the rest of the original list\n",
        "  my_new_list = my_new_list + my_list[index+1:]\n",
        "  return my_new_list\n",
        "\n",
        "#Uncomment the line below when your function is done\n",
        "print(double_index([3, 8, -10, 12], 2))\n",
        "#End\n",
        "\n",
        "#Title: Middle Item\n",
        "\n",
        "#Write your function here\n",
        "def middle_element(my_list):\n",
        "  if len(my_list) % 2 == 0:\n",
        "    sum = my_list[int(len(my_list)/2)] + my_list[int(len(my_list)/2) - 1]\n",
        "    return sum / 2\n",
        "  else:\n",
        "    return my_list[int(len(my_list)/2)]\n",
        "\n",
        "#Uncomment the line below when your function is done\n",
        "print(middle_element([5, 2, -10, -4, 4, 5]))\n",
        "#End"
      ]
    }
  ]
}