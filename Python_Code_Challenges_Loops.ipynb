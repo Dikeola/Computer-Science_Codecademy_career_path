{
  "nbformat": 4,
  "nbformat_minor": 0,
  "metadata": {
    "colab": {
      "provenance": []
    },
    "kernelspec": {
      "name": "python3",
      "display_name": "Python 3"
    },
    "language_info": {
      "name": "python"
    }
  },
  "cells": [
    {
      "cell_type": "code",
      "execution_count": null,
      "metadata": {
        "id": "pmuk9d7nDSoL"
      },
      "outputs": [],
      "source": [
        "#Title: Divisible By Ten\n",
        "\n",
        "#Write your function here\n",
        "def divisible_by_ten(nums):\n",
        "  count = [i for i in nums if i%10==0]\n",
        "  return len(count)\n",
        "\n",
        "#Uncomment the line below when your function is done\n",
        "print(divisible_by_ten([20, 25, 30, 35, 40]))\n",
        "#End\n",
        "\n",
        "#Title: Greetings\n",
        "\n",
        "#Write your function here\n",
        "def add_greetings(names):\n",
        "  lst = ['Hello, '+i for i in names]\n",
        "  return lst\n",
        "\n",
        "#Uncomment the line below when your function is done\n",
        "print(add_greetings([\"Owen\", \"Max\", \"Sophie\"]))\n",
        "#End\n",
        "\n",
        "#Title: Delete Even Starting Numbers\n",
        "\n",
        "#Write your function here\n",
        "def delete_starting_evens(my_list):\n",
        "  ind = 0\n",
        "  while True:\n",
        "    if my_list[ind]%2==0:\n",
        "      my_list.remove(my_list[0])\n",
        "    else:\n",
        "      break\n",
        "    if my_list==[]:\n",
        "      return my_list\n",
        "  return my_list\n",
        "\n",
        "#Uncomment the lines below when your function is done\n",
        "print(delete_starting_evens([4, 8, 10, 11, 12, 15]))\n",
        "print(delete_starting_evens([4, 8, 10]))\n",
        "#End\n",
        "\n",
        "#Title: Odd Indices\n",
        "\n",
        "#Write your function here\n",
        "def odd_indices(my_list):\n",
        "  new = [my_list[i] for i in range(1,len(my_list),2)]\n",
        "  return new\n",
        "#Uncomment the line below when your function is done\n",
        "print(odd_indices([4, 3, 7, 10, 11, -2]))\n",
        "#End\n",
        "\n",
        "#Title: Exponents\n",
        "#Write your function here\n",
        "def exponents(bases,powers):\n",
        "  lst=[]\n",
        "  for i in bases:\n",
        "    for j in powers:\n",
        "      lst.append(i**j)\n",
        "  return lst\n",
        "#Uncomment the line below when your function is done\n",
        "print(exponents([2, 3, 4], [1, 2, 3]))\n",
        "#End\n"
      ]
    }
  ]
}