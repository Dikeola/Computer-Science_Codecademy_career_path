{
  "nbformat": 4,
  "nbformat_minor": 0,
  "metadata": {
    "colab": {
      "provenance": []
    },
    "kernelspec": {
      "name": "python3",
      "display_name": "Python 3"
    },
    "language_info": {
      "name": "python"
    }
  },
  "cells": [
    {
      "cell_type": "code",
      "execution_count": null,
      "metadata": {
        "id": "OmzunWqnC4Ng"
      },
      "outputs": [],
      "source": [
        "#Title: Larger Sum\n",
        "\n",
        "#Write your function here\n",
        "def larger_sum(lst1,lst2):\n",
        "  sum1 = sum(lst1)\n",
        "  sum2 = sum(lst2)\n",
        "  if sum2>sum1:\n",
        "    return lst2\n",
        "  elif sum1>sum2:\n",
        "    return lst1\n",
        "  else:\n",
        "    return lst1\n",
        "\n",
        "#Uncomment the line below when your function is done\n",
        "print(larger_sum([1, 9, 5], [2, 3, 7]))\n",
        "#End\n",
        "\n",
        "#Title: Over 9000\n",
        "#Write your function here\n",
        "def over_nine_thousand(lst):\n",
        "  sum=0\n",
        "  if lst==[]:\n",
        "    return 0\n",
        "  else:\n",
        "    for i in lst:\n",
        "      sum+=i\n",
        "      if sum>9000:\n",
        "        return sum\n",
        "  return sum\n",
        "#Uncomment the line below when your function is done\n",
        "print(over_nine_thousand([8000, 900, 120, 5000]))\n",
        "#End\n",
        "\n",
        "#Title: Max Num\n",
        "\n",
        "#Write your function here\n",
        "def max_num(nums):\n",
        "  return max(nums)\n",
        "\n",
        "#Uncomment the line below when your function is done\n",
        "print(max_num([50, -10, 0, 75, 20]))\n",
        "#End\n",
        "\n",
        "#Title: Same Values\n",
        "#Write your function here\n",
        "def same_values(lst1,lst2):\n",
        "  indices = []\n",
        "  for i in range(0,len(lst1)):\n",
        "    if lst1[i]==lst2[i]:\n",
        "      indices.append(i)\n",
        "  return indices\n",
        "\n",
        "#Uncomment the line below when your function is done\n",
        "print(same_values([5, 1, -10, 3, 3], [5, 10, -10, 3, 5]))\n",
        "#End\n",
        "\n",
        "#Title: Reversed List\n",
        "#Write your function heredef reversed_list(lst1, lst2):\n",
        "def reversed_list(lst1, lst2):\n",
        "  for index in range(len(lst1)):\n",
        "    if lst1[index] != lst2[len(lst2) - 1 - index]:\n",
        "      return False\n",
        "  return True\n",
        "\n",
        "\n",
        "\n",
        "#Uncomment the lines below when your function is done\n",
        "print(reversed_list([1, 2, 3], [3, 2, 1]))\n",
        "print(reversed_list([1, 5, 3], [3, 2, 1]))\n",
        "#End"
      ]
    }
  ]
}