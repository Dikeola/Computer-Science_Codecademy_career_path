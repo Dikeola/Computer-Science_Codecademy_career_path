{
  "nbformat": 4,
  "nbformat_minor": 0,
  "metadata": {
    "colab": {
      "provenance": []
    },
    "kernelspec": {
      "name": "python3",
      "display_name": "Python 3"
    },
    "language_info": {
      "name": "python"
    }
  },
  "cells": [
    {
      "cell_type": "code",
      "execution_count": 1,
      "metadata": {
        "colab": {
          "base_uri": "https://localhost:8080/"
        },
        "id": "UpSEyN0AX8xl",
        "outputId": "22974d87-a63a-484a-d3d5-47eb2ee8bbed"
      },
      "outputs": [
        {
          "output_type": "stream",
          "name": "stdout",
          "text": [
            "Does the sum of the numbers equal 10? True\n",
            "Total: 1860\n",
            "Is it over budget? False\n",
            "True\n",
            "False\n",
            "False\n",
            "True\n",
            "True\n",
            "False\n"
          ]
        }
      ],
      "source": [
        "num1 = 6\n",
        "num2 = 3\n",
        "\n",
        "# Write your if statement here\n",
        "if num1 + num2 != 10:\n",
        "  not_ten = True\n",
        "else:\n",
        "  not_ten = False\n",
        "\n",
        "# Uncomment the below lines to show the result\n",
        "print(\"Does the sum of the numbers equal 10? \" + str(not_ten))\n",
        "\n",
        "\n",
        "# Monthly budget\n",
        "budget = 2000\n",
        "\n",
        "# Monthly expenses\n",
        "food_bill = 200\n",
        "electricity_bill = 100\n",
        "internet_bill = 60\n",
        "rent = 1500\n",
        "\n",
        "# Calculate the total amount of expenses\n",
        "total = food_bill + electricity_bill + internet_bill + rent\n",
        "\n",
        "# Check if the total is greater than the budget and store the result in over_budget\n",
        "if total > budget:\n",
        "  over_budget = True\n",
        "else:\n",
        "  over_budget = False\n",
        "\n",
        "\n",
        "# Uncomment the below lines to see the results\n",
        "\n",
        "print(\"Total: \" + str(total))\n",
        "print(\"Is it over budget? \" + str(over_budget))\n",
        "\n",
        "# Write your large_power function here:\n",
        "def large_power(base,exponent):\n",
        "  if base**exponent > 5000:\n",
        "    return True\n",
        "  else:\n",
        "    return False\n",
        "\n",
        "# Uncomment these function calls to test your large_power function:\n",
        "print(large_power(2, 13))\n",
        "# should print True\n",
        "print(large_power(2, 12))\n",
        "# should print False\n",
        "\n",
        "\n",
        "# Write your twice_as_large function here:\n",
        "def twice_as_large(num1,num2):\n",
        "  if num1/num2 > 2:\n",
        "    return True\n",
        "  else:\n",
        "    return False\n",
        "# Uncomment these function calls to test your twice_as_large function:\n",
        "print(twice_as_large(10, 5))\n",
        "# should print False\n",
        "print(twice_as_large(11, 5))\n",
        "# should print True\n",
        "\n",
        "\n",
        "# Write your divisible_by_ten() function here:\n",
        "def divisible_by_ten(num):\n",
        "  if num%10==0:\n",
        "    return True\n",
        "  else:\n",
        "    return False\n",
        "\n",
        "\n",
        "# Uncomment these print() function calls to test your divisible_by_ten() function:\n",
        "\n",
        "print(divisible_by_ten(20))\n",
        "# should print True\n",
        "print(divisible_by_ten(25))\n",
        "# should print False\n"
      ]
    }
  ]
}